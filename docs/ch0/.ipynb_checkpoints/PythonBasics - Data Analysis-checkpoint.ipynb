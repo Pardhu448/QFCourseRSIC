{
 "cells": [
  {
   "cell_type": "markdown",
   "metadata": {},
   "source": [
    "### PythonBasics - Data Analysis"
   ]
  },
  {
   "cell_type": "code",
   "execution_count": null,
   "metadata": {},
   "outputs": [],
   "source": [
    "import os\n",
    "# to get the current working directory of this file\n",
    "os.getcwd()"
   ]
  },
  {
   "cell_type": "code",
   "execution_count": null,
   "metadata": {},
   "outputs": [],
   "source": [
    "# Load data into python \n",
    "# File should be in current working directory of this session, which you got from previous command.\n",
    "# We have used column names specific to our data set, you can use names corresponding to your data\n",
    "\n",
    "import pandas \n",
    "tools_data = pandas.read_csv('name_of_your_csv_file.csv')\n",
    "#tools_data.head()\n",
    "#tools_data.columns\n",
    "# To group rows based on columns: to get attributes corresponding to unique combination \n",
    "# of school_server_code, user_id and session_id\n",
    "def get_time_spent(df_ts):\n",
    "    # Function to get time spent per user_id\n",
    "    ts_per_stud = df_ts['time_spent'].sum()\n",
    "    return ts_per_stud\n",
    "#tools_data.groupby(['school_server_code', 'user_id']).apply(lambda x: get_time_spent(x))\n",
    "\n",
    "# To remove duplicates, so that we have population of students - with each of their session as a data pointt\n",
    "tools_stud_pop = tools_data.drop_duplicates(subset=['school_server_code', 'user_id', 'session_id'])"
   ]
  },
  {
   "cell_type": "code",
   "execution_count": null,
   "metadata": {},
   "outputs": [],
   "source": [
    "# Explore data for any peculiarities\n",
    "import seaborn as sns\n",
    "import matplotlib.pyplot as plt\n",
    "sns.set(style=\"white\")\n",
    "df = tools_stud_pop.loc[:,['total_days','num_students_day','total_students']]\n",
    "g = sns.PairGrid(df, diag_sharey=False)\n",
    "g.map_lower(sns.kdeplot, cmap=\"Blues_d\")\n",
    "g.map_upper(plt.scatter)\n",
    "g.map_diag(sns.kdeplot, lw=3)\n"
   ]
  },
  {
   "cell_type": "markdown",
   "metadata": {},
   "source": [
    "### If you are ambitious enough to work on fitting a logistic regression on tools data. Please follow this link : https://towardsdatascience.com/building-a-logistic-regression-in-python-step-by-step-becd4d56c9c8"
   ]
  },
  {
   "cell_type": "code",
   "execution_count": null,
   "metadata": {},
   "outputs": [],
   "source": []
  }
 ],
 "metadata": {
  "kernelspec": {
   "display_name": "Python 3",
   "language": "python",
   "name": "python3"
  },
  "language_info": {
   "codemirror_mode": {
    "name": "ipython",
    "version": 3
   },
   "file_extension": ".py",
   "mimetype": "text/x-python",
   "name": "python",
   "nbconvert_exporter": "python",
   "pygments_lexer": "ipython3",
   "version": "3.7.3"
  }
 },
 "nbformat": 4,
 "nbformat_minor": 2
}
