{
 "cells": [
  {
   "cell_type": "markdown",
   "metadata": {},
   "source": [
    "## Python Basics I"
   ]
  },
  {
   "cell_type": "markdown",
   "metadata": {},
   "source": [
    "- Expressions: They describe a computation and evaluate to a value"
   ]
  },
  {
   "cell_type": "code",
   "execution_count": 10,
   "metadata": {},
   "outputs": [
    {
     "data": {
      "text/plain": [
       "12"
      ]
     },
     "execution_count": 10,
     "metadata": {},
     "output_type": "execute_result"
    }
   ],
   "source": [
    "# Primitive expressions\n",
    "3 * 4"
   ]
  },
  {
   "cell_type": "code",
   "execution_count": 17,
   "metadata": {},
   "outputs": [
    {
     "data": {
      "text/plain": [
       "4"
      ]
     },
     "execution_count": 17,
     "metadata": {},
     "output_type": "execute_result"
    }
   ],
   "source": [
    "# Call expressions\n",
    "abs(-4)"
   ]
  },
  {
   "cell_type": "markdown",
   "metadata": {},
   "source": [
    "- Statements: They perform actions, dont evaluate to value. They can be conditional or iterative "
   ]
  },
  {
   "cell_type": "code",
   "execution_count": 8,
   "metadata": {},
   "outputs": [
    {
     "name": "stdout",
     "output_type": "stream",
     "text": [
      "1\n",
      "4\n",
      "9\n",
      "16\n"
     ]
    }
   ],
   "source": [
    "for i in [1, 2, 3, 4]:\n",
    "    print(i*i)"
   ]
  },
  {
   "cell_type": "markdown",
   "metadata": {},
   "source": [
    "- Names: They are a way to reuse computations by abstracting complex computations"
   ]
  },
  {
   "cell_type": "code",
   "execution_count": 18,
   "metadata": {},
   "outputs": [
    {
     "data": {
      "text/plain": [
       "3.1415"
      ]
     },
     "execution_count": 18,
     "metadata": {},
     "output_type": "execute_result"
    }
   ],
   "source": [
    "# Names can be given to values\n",
    "pi = 3.1415\n",
    "pi"
   ]
  },
  {
   "cell_type": "code",
   "execution_count": 11,
   "metadata": {},
   "outputs": [
    {
     "data": {
      "text/plain": [
       "9"
      ]
     },
     "execution_count": 11,
     "metadata": {},
     "output_type": "execute_result"
    }
   ],
   "source": [
    "# Names can also be given to complex computations. These are called functions.\n",
    "def square(x):\n",
    "    return x*x\n",
    "square(3)"
   ]
  },
  {
   "cell_type": "markdown",
   "metadata": {},
   "source": [
    "- Sequences: They are used to work on bunch of values/objects together.\n",
    "  - List: A general collection of objects of same type\n",
    "  - Range: range of numbers with specific relation"
   ]
  },
  {
   "cell_type": "code",
   "execution_count": 8,
   "metadata": {},
   "outputs": [
    {
     "name": "stdout",
     "output_type": "stream",
     "text": [
      "mz_2001213\n",
      "mz_124324\n",
      "mz_234325\n"
     ]
    }
   ],
   "source": [
    "#List of schools\n",
    "list_of_schools = ['mz_2001213', 'mz_124324', 'mz_234325']\n",
    "for school in list_of_schools:\n",
    "    print(school)    "
   ]
  },
  {
   "cell_type": "code",
   "execution_count": 10,
   "metadata": {},
   "outputs": [
    {
     "name": "stdout",
     "output_type": "stream",
     "text": [
      "0\n",
      "1\n",
      "2\n"
     ]
    }
   ],
   "source": [
    "#Range of numbers \n",
    "range_of_numbers = range(3)\n",
    "for i in range_of_numbers:\n",
    "    print(i)"
   ]
  },
  {
   "cell_type": "markdown",
   "metadata": {},
   "source": [
    "- DataTypes: Everything has a type associated with it.\n",
    "  - abs() was a built-in-function type, \n",
    "  - 4 is an int type,\n",
    "  - 'Mumbai' is a string type etc"
   ]
  },
  {
   "cell_type": "code",
   "execution_count": 26,
   "metadata": {},
   "outputs": [
    {
     "name": "stdout",
     "output_type": "stream",
     "text": [
      "<class 'builtin_function_or_method'>\n",
      "<class 'int'>\n"
     ]
    }
   ],
   "source": [
    "print(type(abs))\n",
    "print(type(4))"
   ]
  },
  {
   "cell_type": "markdown",
   "metadata": {},
   "source": [
    "- Objects: Everything you create or given to you fom Python is an object. Basically, an object is an abstact representation for complex entity you want to work with. Its main components are attributes and set of rules to work on it.\n",
    "  - a dataset as a whole is represented as object in python and given to you to work on\n",
    "  - its attributes can be name of dataset, column names etc\n",
    "  - set of rules can be ways in which you can manipulate columns and rows"
   ]
  },
  {
   "cell_type": "code",
   "execution_count": 17,
   "metadata": {},
   "outputs": [
    {
     "name": "stdout",
     "output_type": "stream",
     "text": [
      "math is an object which embodies everything related to mathematical functions and constants\n",
      "\n",
      "One of the attributes of Object math - 3.141592653589793\n",
      "\n",
      "One of the functions provided by math object is - <built-in function ceil>\n",
      "\n"
     ]
    }
   ],
   "source": [
    "# Objects in Python \n",
    "import math\n",
    "print('math is an object which embodies everything related to mathematical functions and constants\\n')\n",
    "print('One of the attributes of Object math - {0}\\n'.format(math.pi))\n",
    "print('One of the functions provided by math object is - {0}\\n'.format(math.ceil))"
   ]
  }
 ],
 "metadata": {
  "kernelspec": {
   "display_name": "Python 3",
   "language": "python",
   "name": "python3"
  },
  "language_info": {
   "codemirror_mode": {
    "name": "ipython",
    "version": 3
   },
   "file_extension": ".py",
   "mimetype": "text/x-python",
   "name": "python",
   "nbconvert_exporter": "python",
   "pygments_lexer": "ipython3",
   "version": "3.7.3"
  }
 },
 "nbformat": 4,
 "nbformat_minor": 2
}
